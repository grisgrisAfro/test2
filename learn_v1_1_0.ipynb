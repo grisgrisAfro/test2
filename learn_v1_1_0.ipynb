{
  "metadata": {
    "kernelspec": {
      "name": "python",
      "display_name": "Pyolite",
      "language": "python"
    },
    "language_info": {
      "codemirror_mode": {
        "name": "python",
        "version": 3
      },
      "file_extension": ".py",
      "mimetype": "text/x-python",
      "name": "python",
      "nbconvert_exporter": "python",
      "pygments_lexer": "ipython3",
      "version": "3.8"
    }
  },
  "nbformat_minor": 4,
  "nbformat": 4,
  "cells": [
    {
      "cell_type": "markdown",
      "source": "<h1 style=\"color:#00AA00\">Jupyterについて</h1>\nPythonは使用するパソコンへインストールしなければ使えません。<br/>\nこのJupyterは、SaaSであるためインストールすることなくPythonを扱うことができます。<br/>\n<br/>\n※SaaS・・・クラウドサーバーにあるソフトウェアを、インターネット経由してユーザーが利用できるサービス<br/>\n<br/>\n<p><b>下のグレーの枠線内に、プログラムを書いて、画面上の「再生アイコン」か「Shift+Enter」でプログラムを実行します。</b></p>",
      "metadata": {
        "tags": []
      }
    },
    {
      "cell_type": "code",
      "source": "#ここにプログラムを書く",
      "metadata": {},
      "execution_count": null,
      "outputs": []
    },
    {
      "cell_type": "markdown",
      "source": "<hr>",
      "metadata": {}
    },
    {
      "cell_type": "markdown",
      "source": "<h1 style=\"color:#00AA00\">関数とは？</h1>\n⇒　与えられた文字や数値に対し、定められた処理を行って結果を返す機能のこと\n\n<h3>■print()関数</h3>\n()の中を出力するという機能を持ちます。\nprint関数で文字を出力する\n文字列は\"\"か、''で囲いましょう<br />\n",
      "metadata": {
        "tags": []
      }
    },
    {
      "cell_type": "code",
      "source": "print(\"Hello World\")",
      "metadata": {
        "trusted": true
      },
      "execution_count": null,
      "outputs": []
    },
    {
      "cell_type": "markdown",
      "source": "<p>文字列同士なら、「+」で繋ぐこともできます。</p>",
      "metadata": {}
    },
    {
      "cell_type": "code",
      "source": "print(\"Hello\" + \"World\")",
      "metadata": {},
      "execution_count": null,
      "outputs": []
    },
    {
      "cell_type": "markdown",
      "source": "<h3>Point!</h3>\n<ul>\n    <li>( ) と \" \" を忘れずに！</li>\n    <li>基本的に半角で記述する（\" \"の中は全角でもOK）！</li>\n    <li>#（シャープ）の後にはコメントを書くことが出来る！</li>\n</ul>",
      "metadata": {}
    },
    {
      "cell_type": "markdown",
      "source": "<h2 style=\"color:#0099FF\">自分でやってみよう</h2>\n<p>print関数で、自分の名前を出力してみよう</p>",
      "metadata": {}
    },
    {
      "cell_type": "code",
      "source": "",
      "metadata": {},
      "execution_count": null,
      "outputs": []
    },
    {
      "cell_type": "markdown",
      "source": "<h3>print関数内では計算もできる</h3>\n<ul>\n    <li>print(6 + 2)  #和</li>\n    <li>print(6 - 2)  #差</li>\n    <li>print(6 * 2)  #積</li>\n    <li>print(6 / 2)  #商</li>\n    <li>print(6 % 2)  #割り算した時の余り</li>\n</ul>",
      "metadata": {}
    },
    {
      "cell_type": "code",
      "source": "#print関数で1+1を計算する\n#数値は\"\"で囲む必要はありません\n\nprint(6+2)\nprint(6-2)\nprint(6*2)\nprint(6/2)\nprint(6%5)",
      "metadata": {
        "tags": [],
        "trusted": true
      },
      "execution_count": null,
      "outputs": []
    },
    {
      "cell_type": "markdown",
      "source": "<h2 style=\"color:#0099FF\">自分でやってみよう</h2>\n<p>print関数で 5+4*3-2 を計算してみよう</p>",
      "metadata": {}
    },
    {
      "cell_type": "code",
      "source": "",
      "metadata": {},
      "execution_count": null,
      "outputs": []
    },
    {
      "cell_type": "markdown",
      "source": "<hr />",
      "metadata": {}
    },
    {
      "cell_type": "markdown",
      "source": "<h1 style=\"color:#00AA00\">■変数とは？</h1>\n<p>何度も使うデータを文字に代入して、再利用しやすくするためのものです。<br>\nたとえば、下の3行のプログラムの「私」を「あなた」に書き換えたいとき...</p>",
      "metadata": {}
    },
    {
      "cell_type": "code",
      "source": "print(\"悟空を倒すのは、このオレの役だ・・。\")\nprint(\"がんばれ悟空、おまえがナンバー１だ\")\nprint(\"さらばだブルマ･･･トランクス･･････そして･･･悟空\")",
      "metadata": {},
      "execution_count": null,
      "outputs": []
    },
    {
      "cell_type": "code",
      "source": "print(\"カカロットを倒すのは、このオレの役だ・・。\")\nprint(\"がんばれカカロット、おまえがナンバー１だ\")\nprint(\"さらばだブルマ･･･トランクス･･････そして･･･カカロット\")",
      "metadata": {},
      "execution_count": null,
      "outputs": []
    },
    {
      "cell_type": "markdown",
      "source": "<p>このように手で打ち換えなければなりません。<br>\n変数を使うと、下のように打ち換えが一度で済みます。</p>",
      "metadata": {}
    },
    {
      "cell_type": "code",
      "source": "goku = \"カカロット\"\nprint(goku + \"を倒すのは、このオレの役だ・・。\")\nprint(\"がんばれ\" + goku + \"、おまえがナンバー１だ\")\nprint(\"さらばだブルマ･･･トランクス･･････そして･･･\" + goku)",
      "metadata": {
        "trusted": true
      },
      "execution_count": null,
      "outputs": []
    },
    {
      "cell_type": "markdown",
      "source": "<h2 style=\"color:#0099FF\">自分でやってみよう</h2>\n<p>下のprint関数の「53万」を、変数を使って書き換え可能なプログラムに修正してください。</p>",
      "metadata": {}
    },
    {
      "cell_type": "code",
      "source": "print(\"私の戦闘力は53万です。\")\n",
      "metadata": {},
      "execution_count": null,
      "outputs": []
    },
    {
      "cell_type": "markdown",
      "source": "<hr>",
      "metadata": {}
    },
    {
      "cell_type": "markdown",
      "source": "<h1 style=\"color:#00AA00\">■input()関数</h1>\n<p>プログラムを使う人が、直接プログラムに値を入力することができるようになる関数です。<br>\n例えば、変数で学習したコードは、値を直接プログラム内に書き込んでいました。<br>\nprint関数を使うことで、使用者の好きな値を使って出力できるようになります。</p>",
      "metadata": {
        "tags": []
      }
    },
    {
      "cell_type": "code",
      "source": "my_power = input(\"あなたの戦闘力を入力してください\")\nprint(\"私の戦闘力は\" + my_power + \"です。\")",
      "metadata": {},
      "execution_count": null,
      "outputs": []
    },
    {
      "cell_type": "markdown",
      "source": "<h2 style=\"color:#0099FF\">自分でやってみよう</h2>\n<p>下のprint関数の「5」と「ゴミ」の部分を、自由に入力可能なプログラムに修正してください。",
      "metadata": {}
    },
    {
      "cell_type": "code",
      "source": "print(\"戦闘力たったの5か・・・ゴミめ\")",
      "metadata": {},
      "execution_count": null,
      "outputs": []
    },
    {
      "cell_type": "markdown",
      "source": "<hr>",
      "metadata": {}
    },
    {
      "cell_type": "markdown",
      "source": "<h1 style=\"color:#00AA00\">■リストと辞書</h1>\n<h3>■リスト</h3>\n<p>複数のデータをまとめて扱うことができる変数の仲間です。<br>\n変数は値をひとつしか持てませんが、リスト・辞書は値を複数もつことができます。<br>\n<br>\n下のリスト「hokuto」には、ケン, ラオウ, トキ, ジャギ の4つのデータが格納されています。</p>",
      "metadata": {}
    },
    {
      "cell_type": "code",
      "source": "hokuto = [\"ケン\", \"ラオウ\", \"トキ\", \"ジャギ\"]",
      "metadata": {},
      "execution_count": null,
      "outputs": []
    },
    {
      "cell_type": "markdown",
      "source": "<p>リストにはインデックス番号があり、左から0, 1, 2, … という0から始まる整数で定義されています。<br>\nリスト名[番号] とすることでリストからデータを取り出すことが出来ます。</p>",
      "metadata": {}
    },
    {
      "cell_type": "code",
      "source": "hokuto = [\"ケン\", \"ラオウ\", \"トキ\", \"ジャギ\"]\nprint(hokuto[0])",
      "metadata": {},
      "execution_count": null,
      "outputs": []
    },
    {
      "cell_type": "markdown",
      "source": "<h2 style=\"color:#0099FF\">自分でやってみよう</h2>\n<p>下の文字列からリスト「nanto」を定義して、そこから「サウザー」様を出力してください。</p>",
      "metadata": {}
    },
    {
      "cell_type": "code",
      "source": "# \"シン\", \"レイ\", \"シュウ\", \"サウザー\", \"南斗最後の将\"\n",
      "metadata": {},
      "execution_count": null,
      "outputs": []
    },
    {
      "cell_type": "markdown",
      "source": "<h3>■辞書</h3>\n<p>辞書もリストと同様に、大きな箱に複数の仕切りがあることによって複数の空間があるイメージです。<br>\nそれぞれの空間はキーによって決められて、キーは自分で設定することができます。<br>\n辞書は、{}で囲み、キー名と値を:(コロン)で繋げます。</p>\n<p>リストと異なるのは、値をキーで取り出せる点です。</p>\n",
      "metadata": {}
    },
    {
      "cell_type": "code",
      "source": "gosyasei = {\"kaze\":\"ヒューイ\", \"honoo\":\"シュレン\", \"yama\":\"フドウ\", \"kumo\":\"ジュウザ\", \"umi\": \"rihaku\"}\nprint(gosyasei[\"kumo\"])",
      "metadata": {},
      "execution_count": null,
      "outputs": []
    },
    {
      "cell_type": "markdown",
      "source": "<h2 style=\"color:#0099FF\">自分でやってみよう</h2>\n<p>下の文字列から辞書「nanto」の「将星」を「極星」に、「南斗最後の将」を「ユリア」に書き換えて、「ユリア」と「サウザー」をそれぞれ出力してください。</p>",
      "metadata": {}
    },
    {
      "cell_type": "code",
      "source": "nanto = {\"殉星\":\"シン\", \"義星\":\"レイ\", \"妖星\":\"ユダ\", \"仁星\":\"シュウ\", \"将星\":\"サウザー\", \"慈母星\":\"南斗最後の将\"}",
      "metadata": {
        "trusted": true
      },
      "execution_count": null,
      "outputs": []
    },
    {
      "cell_type": "markdown",
      "source": "<hr>",
      "metadata": {}
    },
    {
      "cell_type": "markdown",
      "source": "<h1 style=\"color:#00AA00\">■文字列が入った変数から、一部だけを取り出す</h1>\n<p>文字列の入った変数のあとに[]をつけ、取り出したい文字のスタート位置と、終了位置を、コロン（:）区切って入力することで、変数の一部だけを出力できます。<br>\n<p>リストと同様、インデックス番号は左から順番で「0」からスタートします。</p>",
      "metadata": {}
    },
    {
      "cell_type": "code",
      "source": "kotobuki = \"寿精版印刷\"\nprint(kotobuki[0 : 1]) # 1文字目から2文字目を返します。\nprint(kotobuki[:]) #  文字列全体を返します。\nprint(kotobuki[3 : ]) # 3文字目以降を返します。\nprint(kotobuki[ : 3]) # 3文字目までを返します。\nprint(kotobuki[2 : -1]) # 負の数値を入れると後ろから数えます。\nprint(kotobuki[-4 : -2]) # 後ろから4文字目から、後ろから3文字目までを返します。",
      "metadata": {},
      "execution_count": null,
      "outputs": []
    },
    {
      "cell_type": "markdown",
      "source": "<hr>",
      "metadata": {}
    },
    {
      "cell_type": "markdown",
      "source": "<h1 style=\"color:#0099FF\">■製番検索システムを開発しよう</h1>",
      "metadata": {}
    },
    {
      "cell_type": "markdown",
      "source": "<p>下の情報を使って、製番から品名を検索するシステムを開発してください。</p>",
      "metadata": {}
    },
    {
      "cell_type": "code",
      "source": "anken = {\"500000\": \"ワイドハイターEXダミー\", \"500001\": \"澪ホワイトラベルダミー\", \"500002\": \"アクロンダミー\", \"500003\": \"本つゆ・白だし５００ＭＬ\"}\n\n",
      "metadata": {},
      "execution_count": null,
      "outputs": []
    },
    {
      "cell_type": "markdown",
      "source": "<hr>",
      "metadata": {}
    },
    {
      "cell_type": "markdown",
      "source": "<h1 style=\"color:#00AA00\">■アルゴリズムに触れよう</h1>",
      "metadata": {}
    },
    {
      "cell_type": "markdown",
      "source": "<p>アルゴリズムについての概要動画</p>\n\nhttps://twitter.com/i/status/1512391454936936448",
      "metadata": {}
    },
    {
      "cell_type": "markdown",
      "source": "<h2 style=\"color:#0099FF\">■自分でやってみよう</h2>\n<p>以下の2つの数字の頭にゼロを追加して、すべて6桁に揃えてみよう<br>\n例）「20」という数字を・・・「000020」にする</p>",
      "metadata": {}
    },
    {
      "cell_type": "code",
      "source": "num1 = \"10\"\nnum2 = \"123\"\nnum3 = \"1234\"\n\n",
      "metadata": {},
      "execution_count": null,
      "outputs": []
    }
  ]
}